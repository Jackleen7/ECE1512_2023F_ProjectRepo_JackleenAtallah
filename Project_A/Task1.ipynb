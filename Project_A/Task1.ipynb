{
 "cells": [
  {
   "cell_type": "markdown",
   "metadata": {
    "id": "6WYMfvCNPwpm"
   },
   "source": [
    "# Project A: Knowledge Distillation for Building Lightweight Deep Learning Models in Visual Classification Tasks"
   ]
  },
  {
   "cell_type": "code",
   "execution_count": 1,
   "metadata": {
    "executionInfo": {
     "elapsed": 8252,
     "status": "ok",
     "timestamp": 1698451929438,
     "user": {
      "displayName": "jackleen nagy",
      "userId": "05100877981613736414"
     },
     "user_tz": 240
    },
    "id": "vA8ppgB2P0aJ"
   },
   "outputs": [],
   "source": [
    "#import tensorflow.compat.v2 as tf\n",
    "import tensorflow as tf\n",
    "import tensorflow_datasets as tfds\n",
    "from typing import Union\n",
    "\n",
    "#tf.enable_v2_behavior()\n",
    "\n",
    "builder = tfds.builder('mnist')\n",
    "BATCH_SIZE = 256\n",
    "NUM_EPOCHS = 12\n",
    "NUM_CLASSES = 10  # 10 total classes."
   ]
  },
  {
   "cell_type": "markdown",
   "metadata": {
    "id": "H2EFLQROP2R7"
   },
   "source": [
    "# Data loading"
   ]
  },
  {
   "cell_type": "code",
   "execution_count": 2,
   "metadata": {
    "colab": {
     "base_uri": "https://localhost:8080/",
     "height": 84,
     "referenced_widgets": [
      "284657b72c864b209d9bfd1f520707c9",
      "a5956fb26ede4e1d9f9c9d362c0a99a4",
      "3ac4359069584c778bc44e93d5abb2ac",
      "430f11d3e4d1432081a2289b04a87b21",
      "872776a81bce4a35bef148f053475796",
      "1e9eda46208c45bfa64076bb829728b2",
      "a5488abce868460cbdbd8b4d2e6ce1ca",
      "fb9d71d57b7e4313a7ba5b36ac9a8898",
      "4f214e48774a4146ae8dd89ecb8301e8",
      "4191d18da19b44709c8909c2ecb0ab27",
      "b7ca3e07c7f7427f966d2f12bec8d576"
     ]
    },
    "executionInfo": {
     "elapsed": 7519,
     "status": "ok",
     "timestamp": 1698451936944,
     "user": {
      "displayName": "jackleen nagy",
      "userId": "05100877981613736414"
     },
     "user_tz": 240
    },
    "id": "ynByMG_UP4A4",
    "outputId": "945e8271-794e-4390-9e8b-b75ab6a33b85"
   },
   "outputs": [],
   "source": [
    "# Load train and test splits.\n",
    "def preprocess(x):\n",
    "  image = tf.image.convert_image_dtype(x['image'], tf.float32)\n",
    "  subclass_labels = tf.one_hot(x['label'], builder.info.features['label'].num_classes)\n",
    "  return image, subclass_labels\n",
    "\n",
    "\n",
    "mnist_train = tfds.load('mnist', split='train', shuffle_files=False).cache()\n",
    "mnist_train = mnist_train.map(preprocess)\n",
    "mnist_train = mnist_train.shuffle(builder.info.splits['train'].num_examples)\n",
    "mnist_train = mnist_train.batch(BATCH_SIZE, drop_remainder=True)\n",
    "\n",
    "mnist_test = tfds.load('mnist', split='test').cache()\n",
    "mnist_test = mnist_test.map(preprocess).batch(BATCH_SIZE)"
   ]
  },
  {
   "cell_type": "markdown",
   "metadata": {
    "id": "kAZwfvW5P63q"
   },
   "source": [
    "# Problem 2: Model creation"
   ]
  },
  {
   "cell_type": "code",
   "execution_count": 3,
   "metadata": {
    "executionInfo": {
     "elapsed": 807,
     "status": "ok",
     "timestamp": 1698451937737,
     "user": {
      "displayName": "jackleen nagy",
      "userId": "05100877981613736414"
     },
     "user_tz": 240
    },
    "id": "zINgDkA7P7BP"
   },
   "outputs": [],
   "source": [
    "#@test {\"output\": \"ignore\"}\n",
    "\n",
    "# Build CNN teacher.\n",
    "cnn_model = tf.keras.Sequential()\n",
    "\n",
    "# your code start from here for stpe 2\n",
    "cnn_model.add(tf.keras.layers.Conv2D(filters = 32,kernel_size = (3,3),\n",
    "                                     strides=(1, 1),activation ='relu'))\n",
    "cnn_model.add(tf.keras.layers.MaxPool2D(pool_size = (2,2),strides =(1,1)))\n",
    "cnn_model.add(tf.keras.layers.Conv2D(filters = 64,kernel_size = (3,3),\n",
    "                                     strides=(1, 1),activation ='relu'))\n",
    "cnn_model.add(tf.keras.layers.MaxPool2D(pool_size = (2,2),strides =(2,2)))\n",
    "cnn_model.add(tf.keras.layers.Flatten())\n",
    "cnn_model.add(tf.keras.layers.Dropout(0.5))\n",
    "cnn_model.add(tf.keras.layers.Dense(128,activation = 'relu'))\n",
    "cnn_model.add(tf.keras.layers.Dropout(0.5))\n",
    "cnn_model.add(tf.keras.layers.Dense(10))\n",
    "\n",
    "\n",
    "# Build fully connected student.\n",
    "def build_student_model():\n",
    "  fc_model = tf.keras.Sequential()\n",
    "\n",
    "  # your code start from here for step 2\n",
    "  fc_model.add(tf.keras.layers.Flatten())\n",
    "  fc_model.add(tf.keras.layers.Dense(784,activation = 'relu'))\n",
    "  fc_model.add(tf.keras.layers.Dense(784,activation = 'relu'))\n",
    "  fc_model.add(tf.keras.layers.Dense(10))\n",
    "  return fc_model"
   ]
  },
  {
   "cell_type": "markdown",
   "metadata": {
    "id": "8JWGucyrQGav"
   },
   "source": [
    "# Problem 3: Teacher loss function"
   ]
  },
  {
   "cell_type": "code",
   "execution_count": 4,
   "metadata": {
    "executionInfo": {
     "elapsed": 4,
     "status": "ok",
     "timestamp": 1698451937738,
     "user": {
      "displayName": "jackleen nagy",
      "userId": "05100877981613736414"
     },
     "user_tz": 240
    },
    "id": "DhzBP6ZLQJ57"
   },
   "outputs": [],
   "source": [
    "@tf.function\n",
    "def compute_teacher_loss(images, labels):\n",
    "  \"\"\"Compute subclass knowledge distillation teacher loss for given images\n",
    "     and labels.\n",
    "\n",
    "  Args:\n",
    "    images: Tensor representing a batch of images.\n",
    "    labels: Tensor representing a batch of labels.\n",
    "\n",
    "  Returns:\n",
    "    Scalar loss Tensor.\n",
    "  \"\"\"\n",
    "  subclass_logits = cnn_model(images, training=True)\n",
    "\n",
    "  # Compute cross-entropy loss for subclasses.\n",
    "\n",
    "  # your code start from here for step 3\n",
    "  cross_entropy_loss_value = tf.reduce_mean(tf.nn.softmax_cross_entropy_with_logits( \\\n",
    "          labels, subclass_logits))\n",
    "\n",
    "\n",
    "  return cross_entropy_loss_value"
   ]
  },
  {
   "cell_type": "markdown",
   "metadata": {
    "id": "JS8xkuH0QbOS"
   },
   "source": [
    "# Student loss function"
   ]
  },
  {
   "cell_type": "code",
   "execution_count": 5,
   "metadata": {
    "executionInfo": {
     "elapsed": 3,
     "status": "ok",
     "timestamp": 1698451937738,
     "user": {
      "displayName": "jackleen nagy",
      "userId": "05100877981613736414"
     },
     "user_tz": 240
    },
    "id": "lDKia4gPQMIr"
   },
   "outputs": [],
   "source": [
    "#@test {\"output\": \"ignore\"}\n",
    "\n",
    "# Hyperparameters for distillation (need to be tuned).\n",
    "ALPHA = 0.5 # task balance between cross-entropy and distillation loss\n",
    "DISTILLATION_TEMPERATURE = 4. #temperature hyperparameter\n",
    "\n",
    "def distillation_loss(teacher_logits: tf.Tensor, student_logits: tf.Tensor,\n",
    "                      temperature: Union[float, tf.Tensor]):\n",
    "  \"\"\"Compute distillation loss.\n",
    "\n",
    "  This function computes cross entropy between softened logits and softened\n",
    "  targets. The resulting loss is scaled by the squared temperature so that\n",
    "  the gradient magnitude remains approximately constant as the temperature is\n",
    "  changed. For reference, see Hinton et al., 2014, \"Distilling the knowledge in\n",
    "  a neural network.\"\n",
    "\n",
    "  Args:\n",
    "    teacher_logits: A Tensor of logits provided by the teacher.\n",
    "    student_logits: A Tensor of logits provided by the student, of the same\n",
    "      shape as `teacher_logits`.\n",
    "    temperature: Temperature to use for distillation.\n",
    "\n",
    "  Returns:\n",
    "    A scalar Tensor containing the distillation loss.\n",
    "  \"\"\"\n",
    " # your code start from here for step 3\n",
    "  soft_targets = tf.nn.softmax(teacher_logits/temperature, axis = -1)\n",
    "\n",
    "  return tf.reduce_mean(\n",
    "      tf.nn.softmax_cross_entropy_with_logits(\n",
    "          soft_targets, student_logits / temperature)) * temperature ** 2\n",
    "\n",
    "def compute_student_loss(images, labels):\n",
    "  \"\"\"Compute subclass knowledge distillation student loss for given images\n",
    "     and labels.\n",
    "\n",
    "  Args:\n",
    "    images: Tensor representing a batch of images.\n",
    "    labels: Tensor representing a batch of labels.\n",
    "\n",
    "  Returns:\n",
    "    Scalar loss Tensor.\n",
    "  \"\"\"\n",
    "  student_subclass_logits = fc_model(images, training=True)\n",
    "\n",
    "  # Compute subclass distillation loss between student subclass logits and\n",
    "  # softened teacher subclass targets probabilities.\n",
    "\n",
    "  # your code start from here for step 3\n",
    "\n",
    "  teacher_subclass_logits = cnn_model(images, training=False)\n",
    "  distillation_loss_value = distillation_loss(teacher_subclass_logits,\n",
    "                student_subclass_logits, DISTILLATION_TEMPERATURE)\n",
    "\n",
    "  # Compute cross-entropy loss with hard targets.\n",
    "\n",
    "  # your code start from here for step 3\n",
    "\n",
    "  cross_entropy_loss_value = tf.reduce_mean(\n",
    "      tf.nn.softmax_cross_entropy_with_logits(labels, student_subclass_logits))\n",
    "\n",
    "  return ALPHA*distillation_loss_value + (1 - ALPHA)*cross_entropy_loss_value"
   ]
  },
  {
   "cell_type": "markdown",
   "metadata": {
    "id": "RJ1uyvurQ3w4"
   },
   "source": [
    "# Problem 4: Train and evaluation"
   ]
  },
  {
   "cell_type": "code",
   "execution_count": 6,
   "metadata": {
    "executionInfo": {
     "elapsed": 2,
     "status": "ok",
     "timestamp": 1698451937738,
     "user": {
      "displayName": "jackleen nagy",
      "userId": "05100877981613736414"
     },
     "user_tz": 240
    },
    "id": "EtoLbp8uQ4Vl"
   },
   "outputs": [],
   "source": [
    "@tf.function\n",
    "def compute_num_correct(model, images, labels):\n",
    "  \"\"\"Compute number of correctly classified images in a batch.\n",
    "\n",
    "  Args:\n",
    "    model: Instance of tf.keras.Model.\n",
    "    images: Tensor representing a batch of images.\n",
    "    labels: Tensor representing a batch of labels.\n",
    "\n",
    "  Returns:\n",
    "    Number of correctly classified images.\n",
    "  \"\"\"\n",
    "  class_logits = model(images, training=False)\n",
    "  return tf.reduce_sum(\n",
    "      tf.cast(tf.math.equal(tf.argmax(class_logits, -1), tf.argmax(labels, -1)),\n",
    "              tf.float32)), tf.argmax(class_logits, -1), tf.argmax(labels, -1)\n",
    "\n",
    "\n",
    "def train_and_evaluate(model, compute_loss_fn):\n",
    "  \"\"\"Perform training and evaluation for a given model.\n",
    "\n",
    "  Args:\n",
    "    model: Instance of tf.keras.Model.\n",
    "    compute_loss_fn: A function that computes the training loss given the\n",
    "      images, and labels.\n",
    "  \"\"\"\n",
    "\n",
    "  # your code start from here for step 4\n",
    "  optimizer = tf.keras.optimizers.Adam(learning_rate=0.001)\n",
    "\n",
    "  for epoch in range(1, NUM_EPOCHS + 1):\n",
    "    # Run training.\n",
    "    print('Epoch {}: '.format(epoch), end='')\n",
    "    for images, labels in mnist_train:\n",
    "      with tf.GradientTape() as tape:\n",
    "         # your code start from here for step 4\n",
    "\n",
    "        loss_value = compute_loss_fn(images, labels)\n",
    "\n",
    "      grads = tape.gradient(loss_value, model.trainable_variables)\n",
    "      optimizer.apply_gradients(zip(grads, model.trainable_variables))\n",
    "\n",
    "    # Run evaluation.\n",
    "    num_correct = 0\n",
    "    num_total = builder.info.splits['test'].num_examples\n",
    "    for images, labels in mnist_test:\n",
    "      # your code start from here for step 4\n",
    "      num_correct_batch, pred_digit, true_digit = compute_num_correct(model, images, labels)\n",
    "      num_correct += num_correct_batch\n",
    "    print(\"Class_accuracy: \" + '{:.2f}%'.format(\n",
    "        num_correct / num_total * 100))\n"
   ]
  },
  {
   "cell_type": "markdown",
   "metadata": {
    "id": "NQL1lJdaRPT1"
   },
   "source": [
    "# Training models"
   ]
  },
  {
   "cell_type": "markdown",
   "metadata": {
    "id": "nvKJqI9_E54-"
   },
   "source": [
    "Problem 5: Tuning Hyperparameters"
   ]
  },
  {
   "cell_type": "code",
   "execution_count": 7,
   "metadata": {
    "colab": {
     "base_uri": "https://localhost:8080/"
    },
    "executionInfo": {
     "elapsed": 68832,
     "status": "ok",
     "timestamp": 1698452052853,
     "user": {
      "displayName": "jackleen nagy",
      "userId": "05100877981613736414"
     },
     "user_tz": 240
    },
    "id": "-AGHbyABRPz3",
    "outputId": "9ebda9f2-357f-429b-ce30-4704a94609a3"
   },
   "outputs": [
    {
     "name": "stdout",
     "output_type": "stream",
     "text": [
      "Training and Evaluating Teacher Model\n",
      "Epoch 1: Class_accuracy: 98.07%\n",
      "Epoch 2: Class_accuracy: 98.62%\n",
      "Epoch 3: Class_accuracy: 98.79%\n",
      "Epoch 4: Class_accuracy: 98.91%\n",
      "Epoch 5: Class_accuracy: 98.99%\n",
      "Epoch 6: Class_accuracy: 99.06%\n",
      "Epoch 7: Class_accuracy: 99.14%\n",
      "Epoch 8: Class_accuracy: 99.08%\n",
      "Epoch 9: Class_accuracy: 99.19%\n",
      "Epoch 10: Class_accuracy: 99.23%\n",
      "Epoch 11: Class_accuracy: 99.20%\n",
      "Epoch 12: Class_accuracy: 99.26%\n"
     ]
    }
   ],
   "source": [
    "# your code start from here for step 5\n",
    "# Teacher training\n",
    "print('Training and Evaluating Teacher Model')\n",
    "train_and_evaluate(cnn_model, compute_teacher_loss)"
   ]
  },
  {
   "cell_type": "code",
   "execution_count": 15,
   "metadata": {},
   "outputs": [
    {
     "name": "stdout",
     "output_type": "stream",
     "text": [
      "WARNING:tensorflow:Compiled the loaded model, but the compiled metrics have yet to be built. `model.compile_metrics` will be empty until you train or evaluate the model.\n"
     ]
    },
    {
     "name": "stderr",
     "output_type": "stream",
     "text": [
      "WARNING:tensorflow:Compiled the loaded model, but the compiled metrics have yet to be built. `model.compile_metrics` will be empty until you train or evaluate the model.\n"
     ]
    }
   ],
   "source": [
    "### Save Teacher Model\n",
    "cnn_model.save('Teacher_Model_Task1.h5')"
   ]
  },
  {
   "cell_type": "markdown",
   "metadata": {
    "id": "6Vn5seEsGEGn"
   },
   "source": [
    "Hyper-parameter tuning"
   ]
  },
  {
   "cell_type": "code",
   "execution_count": 8,
   "metadata": {
    "colab": {
     "base_uri": "https://localhost:8080/"
    },
    "executionInfo": {
     "elapsed": 1391120,
     "status": "ok",
     "timestamp": 1698453443960,
     "user": {
      "displayName": "jackleen nagy",
      "userId": "05100877981613736414"
     },
     "user_tz": 240
    },
    "id": "zl6i6tMeFFJ6",
    "outputId": "28982ea3-9f2d-45e1-f7e0-18fb2f0e74a5"
   },
   "outputs": [
    {
     "name": "stdout",
     "output_type": "stream",
     "text": [
      "Training and Evaluating Student Model at ALPHA = 0.25 T = 1\n",
      "Epoch 1: Class_accuracy: 96.56%\n",
      "Epoch 2: Class_accuracy: 97.59%\n",
      "Epoch 3: Class_accuracy: 97.70%\n",
      "Epoch 4: Class_accuracy: 98.09%\n",
      "Epoch 5: Class_accuracy: 97.92%\n",
      "Epoch 6: Class_accuracy: 97.91%\n",
      "Epoch 7: Class_accuracy: 98.26%\n",
      "Epoch 8: Class_accuracy: 98.41%\n",
      "Epoch 9: Class_accuracy: 98.07%\n",
      "Epoch 10: Class_accuracy: 97.18%\n",
      "Epoch 11: Class_accuracy: 98.09%\n",
      "Epoch 12: Class_accuracy: 98.35%\n",
      "Class_accuracy: 98.35%\n",
      "Training and Evaluating Student Model at ALPHA = 0.25 T = 2\n",
      "Epoch 1: Class_accuracy: 96.51%\n",
      "Epoch 2: Class_accuracy: 97.47%\n",
      "Epoch 3: Class_accuracy: 97.79%\n",
      "Epoch 4: Class_accuracy: 97.96%\n",
      "Epoch 5: Class_accuracy: 98.29%\n",
      "Epoch 6: Class_accuracy: 98.16%\n",
      "Epoch 7: Class_accuracy: 98.46%\n",
      "Epoch 8: Class_accuracy: 98.57%\n",
      "Epoch 9: Class_accuracy: 98.69%\n",
      "Epoch 10: Class_accuracy: 98.67%\n",
      "Epoch 11: Class_accuracy: 98.67%\n",
      "Epoch 12: Class_accuracy: 98.72%\n",
      "Class_accuracy: 98.72%\n",
      "Training and Evaluating Student Model at ALPHA = 0.25 T = 4\n",
      "Epoch 1: Class_accuracy: 96.47%\n",
      "Epoch 2: Class_accuracy: 97.56%\n",
      "Epoch 3: Class_accuracy: 98.05%\n",
      "Epoch 4: Class_accuracy: 98.36%\n",
      "Epoch 5: Class_accuracy: 98.50%\n",
      "Epoch 6: Class_accuracy: 98.79%\n",
      "Epoch 7: Class_accuracy: 98.67%\n",
      "Epoch 8: Class_accuracy: 98.78%\n",
      "Epoch 9: Class_accuracy: 98.68%\n",
      "Epoch 10: Class_accuracy: 98.73%\n",
      "Epoch 11: Class_accuracy: 98.79%\n",
      "Epoch 12: Class_accuracy: 98.74%\n",
      "Class_accuracy: 98.74%\n",
      "Training and Evaluating Student Model at ALPHA = 0.25 T = 16\n",
      "Epoch 1: Class_accuracy: 96.88%\n",
      "Epoch 2: Class_accuracy: 97.87%\n",
      "Epoch 3: Class_accuracy: 98.28%\n",
      "Epoch 4: Class_accuracy: 98.52%\n",
      "Epoch 5: Class_accuracy: 98.64%\n",
      "Epoch 6: Class_accuracy: 98.65%\n",
      "Epoch 7: Class_accuracy: 98.72%\n",
      "Epoch 8: Class_accuracy: 98.73%\n",
      "Epoch 9: Class_accuracy: 98.76%\n",
      "Epoch 10: Class_accuracy: 98.76%\n",
      "Epoch 11: Class_accuracy: 98.83%\n",
      "Epoch 12: Class_accuracy: 98.92%\n",
      "Class_accuracy: 98.92%\n",
      "Training and Evaluating Student Model at ALPHA = 0.5 T = 1\n",
      "Epoch 1: Class_accuracy: 96.62%\n",
      "Epoch 2: Class_accuracy: 97.14%\n",
      "Epoch 3: Class_accuracy: 97.81%\n",
      "Epoch 4: Class_accuracy: 97.89%\n",
      "Epoch 5: Class_accuracy: 98.23%\n",
      "Epoch 6: Class_accuracy: 97.88%\n",
      "Epoch 7: Class_accuracy: 98.36%\n",
      "Epoch 8: Class_accuracy: 97.92%\n",
      "Epoch 9: Class_accuracy: 98.20%\n",
      "Epoch 10: Class_accuracy: 98.35%\n",
      "Epoch 11: Class_accuracy: 98.18%\n",
      "Epoch 12: Class_accuracy: 98.10%\n",
      "Class_accuracy: 98.10%\n",
      "Training and Evaluating Student Model at ALPHA = 0.5 T = 2\n",
      "Epoch 1: Class_accuracy: 96.55%\n",
      "Epoch 2: Class_accuracy: 97.78%\n",
      "Epoch 3: Class_accuracy: 97.90%\n",
      "Epoch 4: Class_accuracy: 98.23%\n",
      "Epoch 5: Class_accuracy: 98.18%\n",
      "Epoch 6: Class_accuracy: 98.33%\n",
      "Epoch 7: Class_accuracy: 98.57%\n",
      "Epoch 8: Class_accuracy: 98.48%\n",
      "Epoch 9: Class_accuracy: 98.59%\n",
      "Epoch 10: Class_accuracy: 98.61%\n",
      "Epoch 11: Class_accuracy: 98.61%\n",
      "Epoch 12: Class_accuracy: 98.62%\n",
      "Class_accuracy: 98.62%\n",
      "Training and Evaluating Student Model at ALPHA = 0.5 T = 4\n",
      "Epoch 1: Class_accuracy: 96.73%\n",
      "Epoch 2: Class_accuracy: 97.92%\n",
      "Epoch 3: Class_accuracy: 98.22%\n",
      "Epoch 4: Class_accuracy: 98.48%\n",
      "Epoch 5: Class_accuracy: 98.52%\n",
      "Epoch 6: Class_accuracy: 98.62%\n",
      "Epoch 7: Class_accuracy: 98.73%\n",
      "Epoch 8: Class_accuracy: 98.68%\n",
      "Epoch 9: Class_accuracy: 98.78%\n",
      "Epoch 10: Class_accuracy: 98.81%\n",
      "Epoch 11: Class_accuracy: 98.90%\n",
      "Epoch 12: Class_accuracy: 98.85%\n",
      "Class_accuracy: 98.85%\n",
      "Training and Evaluating Student Model at ALPHA = 0.5 T = 16\n",
      "Epoch 1: Class_accuracy: 96.59%\n",
      "Epoch 2: Class_accuracy: 97.92%\n",
      "Epoch 3: Class_accuracy: 98.19%\n",
      "Epoch 4: Class_accuracy: 98.38%\n",
      "Epoch 5: Class_accuracy: 98.54%\n",
      "Epoch 6: Class_accuracy: 98.54%\n",
      "Epoch 7: Class_accuracy: 98.65%\n",
      "Epoch 8: Class_accuracy: 98.77%\n",
      "Epoch 9: Class_accuracy: 98.71%\n",
      "Epoch 10: Class_accuracy: 98.74%\n",
      "Epoch 11: Class_accuracy: 98.87%\n",
      "Epoch 12: Class_accuracy: 98.82%\n",
      "Class_accuracy: 98.82%\n",
      "Training and Evaluating Student Model at ALPHA = 0.75 T = 1\n",
      "Epoch 1: Class_accuracy: 96.34%\n",
      "Epoch 2: Class_accuracy: 97.49%\n",
      "Epoch 3: Class_accuracy: 97.65%\n",
      "Epoch 4: Class_accuracy: 97.94%\n",
      "Epoch 5: Class_accuracy: 97.94%\n",
      "Epoch 6: Class_accuracy: 98.40%\n",
      "Epoch 7: Class_accuracy: 98.14%\n",
      "Epoch 8: Class_accuracy: 98.19%\n",
      "Epoch 9: Class_accuracy: 98.29%\n",
      "Epoch 10: Class_accuracy: 98.33%\n",
      "Epoch 11: Class_accuracy: 98.30%\n",
      "Epoch 12: Class_accuracy: 98.51%\n",
      "Class_accuracy: 98.51%\n",
      "Training and Evaluating Student Model at ALPHA = 0.75 T = 2\n",
      "Epoch 1: Class_accuracy: 96.51%\n",
      "Epoch 2: Class_accuracy: 97.77%\n",
      "Epoch 3: Class_accuracy: 98.01%\n",
      "Epoch 4: Class_accuracy: 98.37%\n",
      "Epoch 5: Class_accuracy: 98.47%\n",
      "Epoch 6: Class_accuracy: 98.52%\n",
      "Epoch 7: Class_accuracy: 98.69%\n",
      "Epoch 8: Class_accuracy: 98.73%\n",
      "Epoch 9: Class_accuracy: 98.70%\n",
      "Epoch 10: Class_accuracy: 98.67%\n",
      "Epoch 11: Class_accuracy: 98.46%\n",
      "Epoch 12: Class_accuracy: 98.58%\n",
      "Class_accuracy: 98.58%\n",
      "Training and Evaluating Student Model at ALPHA = 0.75 T = 4\n",
      "Epoch 1: Class_accuracy: 96.65%\n",
      "Epoch 2: Class_accuracy: 97.95%\n",
      "Epoch 3: Class_accuracy: 98.30%\n",
      "Epoch 4: Class_accuracy: 98.49%\n",
      "Epoch 5: Class_accuracy: 98.57%\n",
      "Epoch 6: Class_accuracy: 98.73%\n",
      "Epoch 7: Class_accuracy: 98.75%\n",
      "Epoch 8: Class_accuracy: 98.70%\n",
      "Epoch 9: Class_accuracy: 98.74%\n",
      "Epoch 10: Class_accuracy: 98.72%\n",
      "Epoch 11: Class_accuracy: 98.71%\n",
      "Epoch 12: Class_accuracy: 98.75%\n",
      "Class_accuracy: 98.75%\n",
      "Training and Evaluating Student Model at ALPHA = 0.75 T = 16\n",
      "Epoch 1: Class_accuracy: 96.74%\n",
      "Epoch 2: Class_accuracy: 97.77%\n",
      "Epoch 3: Class_accuracy: 98.21%\n",
      "Epoch 4: Class_accuracy: 98.38%\n",
      "Epoch 5: Class_accuracy: 98.51%\n",
      "Epoch 6: Class_accuracy: 98.60%\n",
      "Epoch 7: Class_accuracy: 98.69%\n",
      "Epoch 8: Class_accuracy: 98.76%\n",
      "Epoch 9: Class_accuracy: 98.79%\n",
      "Epoch 10: Class_accuracy: 98.81%\n",
      "Epoch 11: Class_accuracy: 98.88%\n",
      "Epoch 12: Class_accuracy: 98.81%\n",
      "Class_accuracy: 98.81%\n",
      "Test Accuracy\n",
      "[[98.34999847 98.72000122 98.73999786 98.91999817]\n",
      " [98.09999847 98.61999512 98.84999847 98.81999969]\n",
      " [98.50999451 98.58000183 98.75       98.80999756]]\n"
     ]
    }
   ],
   "source": [
    "import numpy as np\n",
    "def eval_model(model):\n",
    "     # Run evaluation.\n",
    "    num_correct = 0\n",
    "    num_total = builder.info.splits['test'].num_examples\n",
    "    for images, labels in mnist_test:\n",
    "      # your code start from here for step 4\n",
    "      num_correct_batch, pred_digit, true_digit = compute_num_correct(model, images, labels)\n",
    "      num_correct += num_correct_batch\n",
    "    print(\"Class_accuracy: \" + '{:.2f}%'.format(\n",
    "        num_correct / num_total * 100))\n",
    "    return num_correct / num_total * 100\n",
    "\n",
    "\n",
    "alpha = [0.25, 0.5, 0.75]\n",
    "T_vals = [1, 2, 4, 16]\n",
    "test_acc_tuning = np.zeros((len(alpha), len(T_vals)))\n",
    "for i, ALPHA in enumerate(alpha):\n",
    "  for j, DISTILLATION_TEMPERATURE in enumerate(T_vals):\n",
    "    ## Re-initialize model before training for new alpha and T values\n",
    "    fc_model = build_student_model()\n",
    "    print('Training and Evaluating Student Model at ALPHA = ' + str(ALPHA) + \\\n",
    "      ' T = ' + str(DISTILLATION_TEMPERATURE))\n",
    "    train_and_evaluate(fc_model, compute_student_loss)\n",
    "    test_acc_tuning[i, j] = eval_model(fc_model)\n",
    "\n",
    "print(\"Test Accuracy\")\n",
    "print(test_acc_tuning)"
   ]
  },
  {
   "cell_type": "markdown",
   "metadata": {
    "id": "sj1N38fnRTNB"
   },
   "source": [
    "# Problem 6: Test accuracy vs. tempreture curve"
   ]
  },
  {
   "cell_type": "code",
   "execution_count": 9,
   "metadata": {
    "colab": {
     "base_uri": "https://localhost:8080/"
    },
    "executionInfo": {
     "elapsed": 680602,
     "status": "ok",
     "timestamp": 1698454124556,
     "user": {
      "displayName": "jackleen nagy",
      "userId": "05100877981613736414"
     },
     "user_tz": 240
    },
    "id": "gX4dbazrRWIz",
    "outputId": "abf68b80-6380-475d-f685-cc1e9b2015ad"
   },
   "outputs": [
    {
     "name": "stdout",
     "output_type": "stream",
     "text": [
      "Training student model for T = 1\n",
      "Epoch 1: Class_accuracy: 96.35%\n",
      "Epoch 2: Class_accuracy: 97.65%\n",
      "Epoch 3: Class_accuracy: 97.92%\n",
      "Epoch 4: Class_accuracy: 97.97%\n",
      "Epoch 5: Class_accuracy: 98.30%\n",
      "Epoch 6: Class_accuracy: 98.06%\n",
      "Epoch 7: Class_accuracy: 98.33%\n",
      "Epoch 8: Class_accuracy: 98.27%\n",
      "Epoch 9: Class_accuracy: 98.23%\n",
      "Epoch 10: Class_accuracy: 98.14%\n",
      "Epoch 11: Class_accuracy: 98.21%\n",
      "Epoch 12: Class_accuracy: 98.30%\n",
      "Class_accuracy: 98.30%\n",
      "Training student model for T = 2\n",
      "Epoch 1: Class_accuracy: 96.74%\n",
      "Epoch 2: Class_accuracy: 97.63%\n",
      "Epoch 3: Class_accuracy: 97.79%\n",
      "Epoch 4: Class_accuracy: 98.27%\n",
      "Epoch 5: Class_accuracy: 98.43%\n",
      "Epoch 6: Class_accuracy: 98.23%\n",
      "Epoch 7: Class_accuracy: 98.45%\n",
      "Epoch 8: Class_accuracy: 98.63%\n",
      "Epoch 9: Class_accuracy: 98.58%\n",
      "Epoch 10: Class_accuracy: 98.51%\n",
      "Epoch 11: Class_accuracy: 98.57%\n",
      "Epoch 12: Class_accuracy: 98.26%\n",
      "Class_accuracy: 98.26%\n",
      "Training student model for T = 4\n",
      "Epoch 1: Class_accuracy: 96.94%\n",
      "Epoch 2: Class_accuracy: 97.91%\n",
      "Epoch 3: Class_accuracy: 98.14%\n",
      "Epoch 4: Class_accuracy: 98.57%\n",
      "Epoch 5: Class_accuracy: 98.69%\n",
      "Epoch 6: Class_accuracy: 98.77%\n",
      "Epoch 7: Class_accuracy: 98.71%\n",
      "Epoch 8: Class_accuracy: 98.96%\n",
      "Epoch 9: Class_accuracy: 98.87%\n",
      "Epoch 10: Class_accuracy: 98.87%\n",
      "Epoch 11: Class_accuracy: 98.78%\n",
      "Epoch 12: Class_accuracy: 98.82%\n",
      "Class_accuracy: 98.82%\n",
      "Training student model for T = 16\n",
      "Epoch 1: Class_accuracy: 96.86%\n",
      "Epoch 2: Class_accuracy: 97.79%\n",
      "Epoch 3: Class_accuracy: 98.17%\n",
      "Epoch 4: Class_accuracy: 98.35%\n",
      "Epoch 5: Class_accuracy: 98.57%\n",
      "Epoch 6: Class_accuracy: 98.66%\n",
      "Epoch 7: Class_accuracy: 98.77%\n",
      "Epoch 8: Class_accuracy: 98.75%\n",
      "Epoch 9: Class_accuracy: 98.76%\n",
      "Epoch 10: Class_accuracy: 98.79%\n",
      "Epoch 11: Class_accuracy: 98.79%\n",
      "Epoch 12: Class_accuracy: 98.84%\n",
      "Class_accuracy: 98.84%\n",
      "Training student model for T = 32\n",
      "Epoch 1: Class_accuracy: 96.78%\n",
      "Epoch 2: Class_accuracy: 97.84%\n",
      "Epoch 3: Class_accuracy: 98.24%\n",
      "Epoch 4: Class_accuracy: 98.50%\n",
      "Epoch 5: Class_accuracy: 98.60%\n",
      "Epoch 6: Class_accuracy: 98.63%\n",
      "Epoch 7: Class_accuracy: 98.74%\n",
      "Epoch 8: Class_accuracy: 98.75%\n",
      "Epoch 9: Class_accuracy: 98.70%\n",
      "Epoch 10: Class_accuracy: 98.85%\n",
      "Epoch 11: Class_accuracy: 98.74%\n",
      "Epoch 12: Class_accuracy: 98.84%\n",
      "Class_accuracy: 98.84%\n",
      "Training student model for T = 64\n",
      "Epoch 1: Class_accuracy: 96.79%\n",
      "Epoch 2: Class_accuracy: 97.81%\n",
      "Epoch 3: Class_accuracy: 98.29%\n",
      "Epoch 4: Class_accuracy: 98.36%\n",
      "Epoch 5: Class_accuracy: 98.48%\n",
      "Epoch 6: Class_accuracy: 98.69%\n",
      "Epoch 7: Class_accuracy: 98.68%\n",
      "Epoch 8: Class_accuracy: 98.75%\n",
      "Epoch 9: Class_accuracy: 98.87%\n",
      "Epoch 10: Class_accuracy: 98.76%\n",
      "Epoch 11: Class_accuracy: 98.88%\n",
      "Epoch 12: Class_accuracy: 98.90%\n",
      "Class_accuracy: 98.90%\n"
     ]
    }
   ],
   "source": [
    "# your code start from here for step 6\n",
    "ALPHA = 0.5\n",
    "T_vals = [1, 2, 4, 16, 32, 64]\n",
    "test_acc = []\n",
    "\n",
    "for DISTILLATION_TEMPERATURE in T_vals:\n",
    "  print('Training student model for T = ' + str(DISTILLATION_TEMPERATURE))\n",
    "  fc_model = build_student_model()\n",
    "  train_and_evaluate(fc_model, compute_student_loss)\n",
    "  test_acc.append(eval_model(fc_model))"
   ]
  },
  {
   "cell_type": "code",
   "execution_count": 10,
   "metadata": {
    "colab": {
     "base_uri": "https://localhost:8080/",
     "height": 472
    },
    "executionInfo": {
     "elapsed": 288,
     "status": "ok",
     "timestamp": 1698454124829,
     "user": {
      "displayName": "jackleen nagy",
      "userId": "05100877981613736414"
     },
     "user_tz": 240
    },
    "id": "NT93lp4g6AnT",
    "outputId": "90c13760-cd7d-4726-97c7-02c06c053f9a"
   },
   "outputs": [
    {
     "data": {
      "image/png": "[encoded data removed]",
      "text/plain": [
       "<Figure size 640x480 with 1 Axes>"
      ]
     },
     "metadata": {},
     "output_type": "display_data"
    }
   ],
   "source": [
    "import matplotlib.pyplot as plt\n",
    "plt.plot(T_vals, test_acc, '-o')\n",
    "plt.xlabel('Temperature Values (T)')\n",
    "plt.ylabel('Final Test Accuracy')\n",
    "plt.title('Final test accuracy vs. T')\n",
    "plt.grid()"
   ]
  },
  {
   "cell_type": "markdown",
   "metadata": {
    "id": "WNrH_1emRbGA"
   },
   "source": [
    "# Problem 7 Train student from scratch"
   ]
  },
  {
   "cell_type": "code",
   "execution_count": 16,
   "metadata": {
    "colab": {
     "base_uri": "https://localhost:8080/"
    },
    "executionInfo": {
     "elapsed": 71927,
     "status": "ok",
     "timestamp": 1698454196749,
     "user": {
      "displayName": "jackleen nagy",
      "userId": "05100877981613736414"
     },
     "user_tz": 240
    },
    "id": "HjospsxIRbQ6",
    "outputId": "9471a983-4607-45f4-8c71-3bc592c5fe90"
   },
   "outputs": [
    {
     "name": "stdout",
     "output_type": "stream",
     "text": [
      "Training student model without KD\n",
      "Epoch 1: Class_accuracy: 96.33%\n",
      "Epoch 2: Class_accuracy: 97.42%\n",
      "Epoch 3: Class_accuracy: 97.90%\n",
      "Epoch 4: Class_accuracy: 97.92%\n",
      "Epoch 5: Class_accuracy: 97.93%\n",
      "Epoch 6: Class_accuracy: 97.77%\n",
      "Epoch 7: Class_accuracy: 98.15%\n",
      "Epoch 8: Class_accuracy: 98.24%\n",
      "Epoch 9: Class_accuracy: 97.96%\n",
      "Epoch 10: Class_accuracy: 98.01%\n",
      "Epoch 11: Class_accuracy: 97.92%\n",
      "Epoch 12: Class_accuracy: 98.14%\n"
     ]
    }
   ],
   "source": [
    "# Build fully connected student.\n",
    "fc_model_no_distillation = tf.keras.Sequential()\n",
    "\n",
    "# your code start from here for step 7\n",
    "fc_model_no_distillation.add(tf.keras.layers.Flatten())\n",
    "fc_model_no_distillation.add(tf.keras.layers.Dense(784,activation = 'relu'))\n",
    "fc_model_no_distillation.add(tf.keras.layers.Dense(784,activation = 'relu'))\n",
    "fc_model_no_distillation.add(tf.keras.layers.Dense(10))\n",
    "\n",
    "\n",
    "#@test {\"output\": \"ignore\"}\n",
    "\n",
    "def compute_plain_cross_entropy_loss(images, labels):\n",
    "  \"\"\"Compute plain loss for given images and labels.\n",
    "\n",
    "  For fair comparison and convenience, this function also performs a\n",
    "  LogSumExp over subclasses, but does not perform subclass distillation.\n",
    "\n",
    "  Args:\n",
    "    images: Tensor representing a batch of images.\n",
    "    labels: Tensor representing a batch of labels.\n",
    "\n",
    "  Returns:\n",
    "    Scalar loss Tensor.\n",
    "  \"\"\"\n",
    "  # your code start from here for step 7\n",
    "\n",
    "  student_subclass_logits = fc_model_no_distillation(images, training=True)\n",
    "  cross_entropy_loss =  tf.reduce_mean(tf.nn.softmax_cross_entropy_with_logits( \\\n",
    "          labels, student_subclass_logits))\n",
    "\n",
    "  return cross_entropy_loss\n",
    "\n",
    "print('Training student model without KD')\n",
    "train_and_evaluate(fc_model_no_distillation, compute_plain_cross_entropy_loss)"
   ]
  },
  {
   "cell_type": "markdown",
   "metadata": {
    "id": "yq3JTpQ4RuhR"
   },
   "source": [
    "# Problem 8 Comparing the teacher and student model (number of of parameters and FLOPs)"
   ]
  },
  {
   "cell_type": "code",
   "execution_count": 12,
   "metadata": {
    "executionInfo": {
     "elapsed": 15,
     "status": "ok",
     "timestamp": 1698454196750,
     "user": {
      "displayName": "jackleen nagy",
      "userId": "05100877981613736414"
     },
     "user_tz": 240
    },
    "id": "0Mhyk323KtIj"
   },
   "outputs": [],
   "source": [
    "# your code start from here for step 8\n",
    "## https://github.com/tensorflow/tensorflow/issues/32809#issuecomment-849439287\n",
    "from tensorflow.python.profiler.model_analyzer import profile\n",
    "from tensorflow.python.profiler.option_builder import ProfileOptionBuilder\n",
    "#print('TensorFlow:', tf.__version__)\n",
    "def get_flops_number(model):\n",
    "  forward_pass = tf.function(model.call,\n",
    "      input_signature=[tf.TensorSpec(shape=(1,) + model.input_shape[1:])])\n",
    "\n",
    "  graph_info = profile(forward_pass.get_concrete_function().graph,\n",
    "                        options=ProfileOptionBuilder.float_operation())\n",
    "\n",
    "  # The //2 is necessary since `profile` counts multiply and accumulate\n",
    "  # as two flops, here we report the total number of multiply accumulate ops\n",
    "  flops = graph_info.total_float_ops // 2\n",
    "  return flops"
   ]
  },
  {
   "cell_type": "code",
   "execution_count": 13,
   "metadata": {
    "colab": {
     "base_uri": "https://localhost:8080/"
    },
    "executionInfo": {
     "elapsed": 465,
     "status": "ok",
     "timestamp": 1698454197203,
     "user": {
      "displayName": "jackleen nagy",
      "userId": "05100877981613736414"
     },
     "user_tz": 240
    },
    "id": "4V8GB2yRRuxF",
    "outputId": "dfd62d75-ee76-4a54-c403-ad512c3a9b33"
   },
   "outputs": [
    {
     "name": "stdout",
     "output_type": "stream",
     "text": [
      "######### Teacher Model, Number of Parameters, Flops ################\n",
      "Model: \"sequential\"\n",
      "_________________________________________________________________\n",
      " Layer (type)                Output Shape              Param #   \n",
      "=================================================================\n",
      " conv2d (Conv2D)             (None, 26, 26, 32)        320       \n",
      "                                                                 \n",
      " max_pooling2d (MaxPooling2D  (None, 25, 25, 32)       0         \n",
      " )                                                               \n",
      "                                                                 \n",
      " conv2d_1 (Conv2D)           (None, 23, 23, 64)        18496     \n",
      "                                                                 \n",
      " max_pooling2d_1 (MaxPooling  (None, 11, 11, 64)       0         \n",
      " 2D)                                                             \n",
      "                                                                 \n",
      " flatten (Flatten)           (None, 7744)              0         \n",
      "                                                                 \n",
      " dropout (Dropout)           (None, 7744)              0         \n",
      "                                                                 \n",
      " dense (Dense)               (None, 128)               991360    \n",
      "                                                                 \n",
      " dropout_1 (Dropout)         (None, 128)               0         \n",
      "                                                                 \n",
      " dense_1 (Dense)             (None, 10)                1290      \n",
      "                                                                 \n",
      "=================================================================\n",
      "Total params: 1,011,466\n",
      "Trainable params: 1,011,466\n",
      "Non-trainable params: 0\n",
      "_________________________________________________________________\n",
      "WARNING:tensorflow:From C:\\Users\\Jackyy\\anaconda3\\lib\\site-packages\\tensorflow\\python\\ops\\nn_ops.py:5250: tensor_shape_from_node_def_name (from tensorflow.python.framework.graph_util_impl) is deprecated and will be removed in a future version.\n",
      "Instructions for updating:\n",
      "Use `tf.compat.v1.graph_util.tensor_shape_from_node_def_name`\n"
     ]
    },
    {
     "name": "stderr",
     "output_type": "stream",
     "text": [
      "WARNING:tensorflow:From C:\\Users\\Jackyy\\anaconda3\\lib\\site-packages\\tensorflow\\python\\ops\\nn_ops.py:5250: tensor_shape_from_node_def_name (from tensorflow.python.framework.graph_util_impl) is deprecated and will be removed in a future version.\n",
      "Instructions for updating:\n",
      "Use `tf.compat.v1.graph_util.tensor_shape_from_node_def_name`\n"
     ]
    },
    {
     "name": "stdout",
     "output_type": "stream",
     "text": [
      "Teacher Flops: 11,021,029\n",
      "######### Teacher Model, Number of Parameters, Flops ################\n",
      "Model: \"sequential_18\"\n",
      "_________________________________________________________________\n",
      " Layer (type)                Output Shape              Param #   \n",
      "=================================================================\n",
      " flatten_18 (Flatten)        (None, 784)               0         \n",
      "                                                                 \n",
      " dense_53 (Dense)            (None, 784)               615440    \n",
      "                                                                 \n",
      " dense_54 (Dense)            (None, 784)               615440    \n",
      "                                                                 \n",
      " dense_55 (Dense)            (None, 10)                7850      \n",
      "                                                                 \n",
      "=================================================================\n",
      "Total params: 1,238,730\n",
      "Trainable params: 1,238,730\n",
      "Non-trainable params: 0\n",
      "_________________________________________________________________\n",
      "Students Flops: 1,237,941\n"
     ]
    }
   ],
   "source": [
    "# your code start from here for step 8\n",
    "print('######### Teacher Model, Number of Parameters, Flops ################')\n",
    "cnn_model.summary()\n",
    "teacher_flops = get_flops_number(cnn_model)\n",
    "print('Teacher Flops: {:,}'.format(teacher_flops))\n",
    "\n",
    "print('######### Teacher Model, Number of Parameters, Flops ################')\n",
    "fc_model.summary()\n",
    "student_flops = get_flops_number(fc_model)\n",
    "print('Students Flops: {:,}'.format(student_flops))"
   ]
  },
  {
   "cell_type": "markdown",
   "metadata": {
    "id": "KjwJ5oziRvRn"
   },
   "source": [
    "# Implementing the state-of-the-art KD algorithm"
   ]
  },
  {
   "cell_type": "markdown",
   "metadata": {
    "id": "zuFCLC4SL6NI"
   },
   "source": [
    "Please, check file Task1p12.ipynb for the implementation"
   ]
  },
  {
   "cell_type": "markdown",
   "metadata": {
    "id": "6dsOmtqdieIC"
   },
   "source": [
    "# XAI method to explain models"
   ]
  },
  {
   "cell_type": "code",
   "execution_count": 14,
   "metadata": {
    "executionInfo": {
     "elapsed": 133,
     "status": "ok",
     "timestamp": 1698454327073,
     "user": {
      "displayName": "jackleen nagy",
      "userId": "05100877981613736414"
     },
     "user_tz": 240
    },
    "id": "X0IMIFW8ilPO"
   },
   "outputs": [],
   "source": [
    "# your code start from here for step 13\n"
   ]
  }
 ],
 "metadata": {
  "accelerator": "GPU",
  "colab": {
   "gpuType": "T4",
   "provenance": []
  },
  "kernelspec": {
   "display_name": "Python 3 (ipykernel)",
   "language": "python",
   "name": "python3"
  },
  "language_info": {
   "codemirror_mode": {
    "name": "ipython",
    "version": 3
   },
   "file_extension": ".py",
   "mimetype": "text/x-python",
   "name": "python",
   "nbconvert_exporter": "python",
   "pygments_lexer": "ipython3",
   "version": "3.9.13"
  },
  "widgets": {
   "application/vnd.jupyter.widget-state+json": {
    "1e9eda46208c45bfa64076bb829728b2": {
     "model_module": "@jupyter-widgets/base",
     "model_module_version": "1.2.0",
     "model_name": "LayoutModel",
     "state": {
      "_model_module": "@jupyter-widgets/base",
      "_model_module_version": "1.2.0",
      "_model_name": "LayoutModel",
      "_view_count": null,
      "_view_module": "@jupyter-widgets/base",
      "_view_module_version": "1.2.0",
      "_view_name": "LayoutView",
      "align_content": null,
      "align_items": null,
      "align_self": null,
      "border": null,
      "bottom": null,
      "display": null,
      "flex": null,
      "flex_flow": null,
      "grid_area": null,
      "grid_auto_columns": null,
      "grid_auto_flow": null,
      "grid_auto_rows": null,
      "grid_column": null,
      "grid_gap": null,
      "grid_row": null,
      "grid_template_areas": null,
      "grid_template_columns": null,
      "grid_template_rows": null,
      "height": null,
      "justify_content": null,
      "justify_items": null,
      "left": null,
      "margin": null,
      "max_height": null,
      "max_width": null,
      "min_height": null,
      "min_width": null,
      "object_fit": null,
      "object_position": null,
      "order": null,
      "overflow": null,
      "overflow_x": null,
      "overflow_y": null,
      "padding": null,
      "right": null,
      "top": null,
      "visibility": null,
      "width": null
     }
    },
    "284657b72c864b209d9bfd1f520707c9": {
     "model_module": "@jupyter-widgets/controls",
     "model_module_version": "1.5.0",
     "model_name": "HBoxModel",
     "state": {
      "_dom_classes": [],
      "_model_module": "@jupyter-widgets/controls",
      "_model_module_version": "1.5.0",
      "_model_name": "HBoxModel",
      "_view_count": null,
      "_view_module": "@jupyter-widgets/controls",
      "_view_module_version": "1.5.0",
      "_view_name": "HBoxView",
      "box_style": "",
      "children": [
       "IPY_MODEL_a5956fb26ede4e1d9f9c9d362c0a99a4",
       "IPY_MODEL_3ac4359069584c778bc44e93d5abb2ac",
       "IPY_MODEL_430f11d3e4d1432081a2289b04a87b21"
      ],
      "layout": "IPY_MODEL_872776a81bce4a35bef148f053475796"
     }
    },
    "3ac4359069584c778bc44e93d5abb2ac": {
     "model_module": "@jupyter-widgets/controls",
     "model_module_version": "1.5.0",
     "model_name": "FloatProgressModel",
     "state": {
      "_dom_classes": [],
      "_model_module": "@jupyter-widgets/controls",
      "_model_module_version": "1.5.0",
      "_model_name": "FloatProgressModel",
      "_view_count": null,
      "_view_module": "@jupyter-widgets/controls",
      "_view_module_version": "1.5.0",
      "_view_name": "ProgressView",
      "bar_style": "success",
      "description": "",
      "description_tooltip": null,
      "layout": "IPY_MODEL_fb9d71d57b7e4313a7ba5b36ac9a8898",
      "max": 5,
      "min": 0,
      "orientation": "horizontal",
      "style": "IPY_MODEL_4f214e48774a4146ae8dd89ecb8301e8",
      "value": 5
     }
    },
    "4191d18da19b44709c8909c2ecb0ab27": {
     "model_module": "@jupyter-widgets/base",
     "model_module_version": "1.2.0",
     "model_name": "LayoutModel",
     "state": {
      "_model_module": "@jupyter-widgets/base",
      "_model_module_version": "1.2.0",
      "_model_name": "LayoutModel",
      "_view_count": null,
      "_view_module": "@jupyter-widgets/base",
      "_view_module_version": "1.2.0",
      "_view_name": "LayoutView",
      "align_content": null,
      "align_items": null,
      "align_self": null,
      "border": null,
      "bottom": null,
      "display": null,
      "flex": null,
      "flex_flow": null,
      "grid_area": null,
      "grid_auto_columns": null,
      "grid_auto_flow": null,
      "grid_auto_rows": null,
      "grid_column": null,
      "grid_gap": null,
      "grid_row": null,
      "grid_template_areas": null,
      "grid_template_columns": null,
      "grid_template_rows": null,
      "height": null,
      "justify_content": null,
      "justify_items": null,
      "left": null,
      "margin": null,
      "max_height": null,
      "max_width": null,
      "min_height": null,
      "min_width": null,
      "object_fit": null,
      "object_position": null,
      "order": null,
      "overflow": null,
      "overflow_x": null,
      "overflow_y": null,
      "padding": null,
      "right": null,
      "top": null,
      "visibility": null,
      "width": null
     }
    },
    "430f11d3e4d1432081a2289b04a87b21": {
     "model_module": "@jupyter-widgets/controls",
     "model_module_version": "1.5.0",
     "model_name": "HTMLModel",
     "state": {
      "_dom_classes": [],
      "_model_module": "@jupyter-widgets/controls",
      "_model_module_version": "1.5.0",
      "_model_name": "HTMLModel",
      "_view_count": null,
      "_view_module": "@jupyter-widgets/controls",
      "_view_module_version": "1.5.0",
      "_view_name": "HTMLView",
      "description": "",
      "description_tooltip": null,
      "layout": "IPY_MODEL_4191d18da19b44709c8909c2ecb0ab27",
      "placeholder": "​",
      "style": "IPY_MODEL_b7ca3e07c7f7427f966d2f12bec8d576",
      "value": " 5/5 [00:00&lt;00:00,  8.55 file/s]"
     }
    },
    "4f214e48774a4146ae8dd89ecb8301e8": {
     "model_module": "@jupyter-widgets/controls",
     "model_module_version": "1.5.0",
     "model_name": "ProgressStyleModel",
     "state": {
      "_model_module": "@jupyter-widgets/controls",
      "_model_module_version": "1.5.0",
      "_model_name": "ProgressStyleModel",
      "_view_count": null,
      "_view_module": "@jupyter-widgets/base",
      "_view_module_version": "1.2.0",
      "_view_name": "StyleView",
      "bar_color": null,
      "description_width": ""
     }
    },
    "872776a81bce4a35bef148f053475796": {
     "model_module": "@jupyter-widgets/base",
     "model_module_version": "1.2.0",
     "model_name": "LayoutModel",
     "state": {
      "_model_module": "@jupyter-widgets/base",
      "_model_module_version": "1.2.0",
      "_model_name": "LayoutModel",
      "_view_count": null,
      "_view_module": "@jupyter-widgets/base",
      "_view_module_version": "1.2.0",
      "_view_name": "LayoutView",
      "align_content": null,
      "align_items": null,
      "align_self": null,
      "border": null,
      "bottom": null,
      "display": null,
      "flex": null,
      "flex_flow": null,
      "grid_area": null,
      "grid_auto_columns": null,
      "grid_auto_flow": null,
      "grid_auto_rows": null,
      "grid_column": null,
      "grid_gap": null,
      "grid_row": null,
      "grid_template_areas": null,
      "grid_template_columns": null,
      "grid_template_rows": null,
      "height": null,
      "justify_content": null,
      "justify_items": null,
      "left": null,
      "margin": null,
      "max_height": null,
      "max_width": null,
      "min_height": null,
      "min_width": null,
      "object_fit": null,
      "object_position": null,
      "order": null,
      "overflow": null,
      "overflow_x": null,
      "overflow_y": null,
      "padding": null,
      "right": null,
      "top": null,
      "visibility": null,
      "width": null
     }
    },
    "a5488abce868460cbdbd8b4d2e6ce1ca": {
     "model_module": "@jupyter-widgets/controls",
     "model_module_version": "1.5.0",
     "model_name": "DescriptionStyleModel",
     "state": {
      "_model_module": "@jupyter-widgets/controls",
      "_model_module_version": "1.5.0",
      "_model_name": "DescriptionStyleModel",
      "_view_count": null,
      "_view_module": "@jupyter-widgets/base",
      "_view_module_version": "1.2.0",
      "_view_name": "StyleView",
      "description_width": ""
     }
    },
    "a5956fb26ede4e1d9f9c9d362c0a99a4": {
     "model_module": "@jupyter-widgets/controls",
     "model_module_version": "1.5.0",
     "model_name": "HTMLModel",
     "state": {
      "_dom_classes": [],
      "_model_module": "@jupyter-widgets/controls",
      "_model_module_version": "1.5.0",
      "_model_name": "HTMLModel",
      "_view_count": null,
      "_view_module": "@jupyter-widgets/controls",
      "_view_module_version": "1.5.0",
      "_view_name": "HTMLView",
      "description": "",
      "description_tooltip": null,
      "layout": "IPY_MODEL_1e9eda46208c45bfa64076bb829728b2",
      "placeholder": "​",
      "style": "IPY_MODEL_a5488abce868460cbdbd8b4d2e6ce1ca",
      "value": "Dl Completed...: 100%"
     }
    },
    "b7ca3e07c7f7427f966d2f12bec8d576": {
     "model_module": "@jupyter-widgets/controls",
     "model_module_version": "1.5.0",
     "model_name": "DescriptionStyleModel",
     "state": {
      "_model_module": "@jupyter-widgets/controls",
      "_model_module_version": "1.5.0",
      "_model_name": "DescriptionStyleModel",
      "_view_count": null,
      "_view_module": "@jupyter-widgets/base",
      "_view_module_version": "1.2.0",
      "_view_name": "StyleView",
      "description_width": ""
     }
    },
    "fb9d71d57b7e4313a7ba5b36ac9a8898": {
     "model_module": "@jupyter-widgets/base",
     "model_module_version": "1.2.0",
     "model_name": "LayoutModel",
     "state": {
      "_model_module": "@jupyter-widgets/base",
      "_model_module_version": "1.2.0",
      "_model_name": "LayoutModel",
      "_view_count": null,
      "_view_module": "@jupyter-widgets/base",
      "_view_module_version": "1.2.0",
      "_view_name": "LayoutView",
      "align_content": null,
      "align_items": null,
      "align_self": null,
      "border": null,
      "bottom": null,
      "display": null,
      "flex": null,
      "flex_flow": null,
      "grid_area": null,
      "grid_auto_columns": null,
      "grid_auto_flow": null,
      "grid_auto_rows": null,
      "grid_column": null,
      "grid_gap": null,
      "grid_row": null,
      "grid_template_areas": null,
      "grid_template_columns": null,
      "grid_template_rows": null,
      "height": null,
      "justify_content": null,
      "justify_items": null,
      "left": null,
      "margin": null,
      "max_height": null,
      "max_width": null,
      "min_height": null,
      "min_width": null,
      "object_fit": null,
      "object_position": null,
      "order": null,
      "overflow": null,
      "overflow_x": null,
      "overflow_y": null,
      "padding": null,
      "right": null,
      "top": null,
      "visibility": null,
      "width": null
     }
    }
   }
  }
 },
 "nbformat": 4,
 "nbformat_minor": 1
}
